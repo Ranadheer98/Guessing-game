{
 "cells": [
  {
   "cell_type": "code",
   "execution_count": 1,
   "metadata": {},
   "outputs": [
    {
     "name": "stdout",
     "output_type": "stream",
     "text": [
      "Guess the number: 89\n",
      "COLD\n",
      "Take another guess: 45\n",
      "COLD\n",
      "Take another guess: 78\n",
      "COLD\n",
      "Take another guess: 34\n",
      "COLD\n",
      "Take another guess: 14\n",
      "WARM\n",
      "Take another guess: 17\n",
      "COLDER\n",
      "Take another guess: 11\n",
      "WARMER\n",
      "Take another guess: 8\n",
      "WARMER\n",
      "Take another guess: 7\n",
      "WARMER\n",
      "Take another guess: 6\n",
      "You have finally guessed it correctly: 6. You took 10 attempts\n"
     ]
    }
   ],
   "source": [
    "#The program that picks a random integer from 1 to 100, and has players guess the number. \n",
    "#The rules are:\n",
    "#On a player's first turn, if their guess is\n",
    "#within 10 of the number, it returns \"WARM!\"\n",
    "#If further than 10 away from the number, it returns \"COLD!\"\n",
    "#On all subsequent turns, if a guess is\n",
    "#closer to the number than the previous guess it returns \"WARMER!\"\n",
    "#farther from the number than the previous guess, it returns \"COLDER!\"\n",
    "#When the player's guess equals the number, it tells them they've guessed correctly and the number of guesses it took!\n",
    "\n",
    "\n",
    "\n",
    "from random import randint\n",
    "x=randint(1,100)\n",
    "guess = int(input('Guess the number: '))\n",
    "emptylist=[]\n",
    "emptylist.append(guess)\n",
    "count=0\n",
    "a=x+10\n",
    "b=x-10\n",
    "if guess == x:\n",
    "    print('You have guessed the number - {} in the first attempt itself'.format(guess))\n",
    "while guess!=x:\n",
    "    if guess<a and guess>b:\n",
    "        print('WARM')\n",
    "        guess = int(input('Take another guess: '))\n",
    "        emptylist.append(guess)\n",
    "        count+=1\n",
    "        while guess!=x:\n",
    "            if abs(emptylist[count]-x) < abs(emptylist[count-1]-x):\n",
    "                print('WARMER')\n",
    "                guess = int(input('Take another guess: '))\n",
    "                emptylist.append(guess)\n",
    "                count+=1\n",
    "                continue\n",
    "            else:\n",
    "                print('COLDER')\n",
    "                guess = int(input('Take another guess: '))\n",
    "                emptylist.append(guess)\n",
    "                count+=1\n",
    "                continue\n",
    "                \n",
    "    else:\n",
    "        print('COLD')\n",
    "        guess = int(input('Take another guess: '))\n",
    "        emptylist.append(guess)\n",
    "        count+=1\n",
    "        continue\n",
    "        \n",
    "f = len(emptylist)\n",
    "print('You have finally guessed it correctly: {}. You took {} attempts'.format(guess,f))\n",
    "        \n",
    "        \n",
    "        \n",
    "        \n",
    "        \n",
    "        "
   ]
  },
  {
   "cell_type": "code",
   "execution_count": null,
   "metadata": {},
   "outputs": [],
   "source": []
  }
 ],
 "metadata": {
  "kernelspec": {
   "display_name": "Python 3",
   "language": "python",
   "name": "python3"
  },
  "language_info": {
   "codemirror_mode": {
    "name": "ipython",
    "version": 3
   },
   "file_extension": ".py",
   "mimetype": "text/x-python",
   "name": "python",
   "nbconvert_exporter": "python",
   "pygments_lexer": "ipython3",
   "version": "3.7.4"
  }
 },
 "nbformat": 4,
 "nbformat_minor": 2
}
